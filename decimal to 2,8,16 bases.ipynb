{
 "cells": [
  {
   "cell_type": "markdown",
   "id": "05e324da",
   "metadata": {},
   "source": [
    "##\tכתוב תוכנית אשר מקבלת מספר בבסיס 10 ומדפיסה את המספר בכל הבסיסים האחרים (בסיס 2, 8, 16)."
   ]
  },
  {
   "cell_type": "code",
   "execution_count": 1,
   "id": "a3188161",
   "metadata": {},
   "outputs": [
    {
     "name": "stdout",
     "output_type": "stream",
     "text": [
      "The number 1253 converted to other bases:\n",
      "Binary: 10011100101,\n",
      "Octal: 2345,\n",
      "hex: 4e5\n"
     ]
    }
   ],
   "source": [
    "def binary(num):\n",
    "    n=num\n",
    "    bin=\"\"\n",
    "    while(n>0):\n",
    "        bin=str(n%2)+bin\n",
    "        n=n//2\n",
    "    return int(bin)\n",
    "\n",
    "def octal(num):\n",
    "    n=num\n",
    "    counter=0\n",
    "    sum=0\n",
    "    while(n>0):\n",
    "        sum += ((n%8)*(10**counter))\n",
    "        n = int(n/8)\n",
    "        counter += 1\n",
    "    return sum\n",
    "\n",
    "def hexa(num):\n",
    "    hex_numbers = \"0123456789abcdef\"\n",
    "    modulo = (num % 16)\n",
    "    n = num // 16\n",
    "    if (n == 0):\n",
    "        return hex_numbers[modulo]\n",
    "    return hexa(n) + hex_numbers[modulo]\n",
    "\n",
    "def all_bases(num):\n",
    "    return (\"The number {num} converted to other bases:\\nBinary: {a},\\nOctal: {b},\\nhex: {c}\".format(num=num,a=binary(num), b=octal(num), c=hexa(num)))\n",
    "print(all_bases(1253))"
   ]
  }
 ],
 "metadata": {
  "kernelspec": {
   "display_name": "Python 3",
   "language": "python",
   "name": "python3"
  },
  "language_info": {
   "codemirror_mode": {
    "name": "ipython",
    "version": 3
   },
   "file_extension": ".py",
   "mimetype": "text/x-python",
   "name": "python",
   "nbconvert_exporter": "python",
   "pygments_lexer": "ipython3",
   "version": "3.8.8"
  }
 },
 "nbformat": 4,
 "nbformat_minor": 5
}
